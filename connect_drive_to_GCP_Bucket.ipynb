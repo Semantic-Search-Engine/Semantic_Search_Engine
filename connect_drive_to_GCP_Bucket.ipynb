{
  "nbformat": 4,
  "nbformat_minor": 0,
  "metadata": {
    "colab": {
      "provenance": []
    },
    "kernelspec": {
      "name": "python3",
      "display_name": "Python 3"
    },
    "language_info": {
      "name": "python"
    }
  },
  "cells": [
    {
      "cell_type": "code",
      "source": [
        "from google.colab import drive\n",
        "drive.mount('/content/drive')"
      ],
      "metadata": {
        "colab": {
          "base_uri": "https://localhost:8080/"
        },
        "id": "71WpnH8pGrJp",
        "outputId": "f2cc3ee6-0506-4eda-d603-c31651196826"
      },
      "execution_count": null,
      "outputs": [
        {
          "output_type": "stream",
          "name": "stdout",
          "text": [
            "Mounted at /content/drive\n"
          ]
        }
      ]
    },
    {
      "cell_type": "code",
      "source": [
        "from google.colab import auth\n",
        "auth.authenticate_user()\n",
        "project_id = 'modern-binder-364503'\n",
        "!gcloud config set project {project_id}\n",
        "!gsutil ls"
      ],
      "metadata": {
        "colab": {
          "base_uri": "https://localhost:8080/"
        },
        "id": "b_JltEXQGu8N",
        "outputId": "8123a4af-69a3-40b3-d73b-63ee7d7cd644"
      },
      "execution_count": null,
      "outputs": [
        {
          "output_type": "stream",
          "name": "stdout",
          "text": [
            "Updated property [core/project].\n",
            "gs://sse_app/\n"
          ]
        }
      ]
    },
    {
      "cell_type": "code",
      "source": [
        "bucket_name = 'sse_app'\n",
        "!gsutil -m cp -r /content/drive/MyDrive/pickle_files/* gs://sse_app/"
      ],
      "metadata": {
        "colab": {
          "base_uri": "https://localhost:8080/"
        },
        "id": "6_uYHO8dHZ57",
        "outputId": "b23e4a1f-1791-4fa5-d453-194793389012"
      },
      "execution_count": null,
      "outputs": [
        {
          "output_type": "stream",
          "name": "stdout",
          "text": [
            "Copying file:///content/drive/MyDrive/pickle_files/LSH_title.pkl [Content-Type=application/octet-stream]...\n",
            "/ [0/5 files][    0.0 B/  1.1 GiB]   0% Done                                    \rCopying file:///content/drive/MyDrive/pickle_files/final_embeddings [Content-Type=application/octet-stream]...\n",
            "Copying file:///content/drive/MyDrive/pickle_files/model.pkl [Content-Type=application/octet-stream]...\n",
            "Copying file:///content/drive/MyDrive/pickle_files/tokenizer.pkl [Content-Type=application/octet-stream]...\n",
            "/ [0/5 files][    0.0 B/  1.1 GiB]   0% Done                                    \r/ [0/5 files][    0.0 B/  1.1 GiB]   0% Done                                    \rCopying file:///content/drive/MyDrive/pickle_files/Final_dataset1.pkl [Content-Type=application/octet-stream]...\n",
            "/ [0/5 files][    0.0 B/  1.1 GiB]   0% Done                                    \r/ [0/5 files][    0.0 B/  1.1 GiB]   0% Done                                    \r==> NOTE: You are uploading one or more large file(s), which would run\n",
            "significantly faster if you enable parallel composite uploads. This\n",
            "feature can be enabled by editing the\n",
            "\"parallel_composite_upload_threshold\" value in your .boto\n",
            "configuration file. However, note that if you do this large files will\n",
            "be uploaded as `composite objects\n",
            "<https://cloud.google.com/storage/docs/composite-objects>`_,which\n",
            "means that any user who downloads such objects will need to have a\n",
            "compiled crcmod installed (see \"gsutil help crcmod\"). This is because\n",
            "without a compiled crcmod, computing checksums on composite objects is\n",
            "so slow that gsutil disables downloads of composite objects.\n",
            "\n"
          ]
        }
      ]
    },
    {
      "cell_type": "code",
      "source": [],
      "metadata": {
        "id": "eLqLxGjyHkFY"
      },
      "execution_count": null,
      "outputs": []
    }
  ]
}